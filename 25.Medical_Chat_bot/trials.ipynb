{
 "cells": [
  {
   "cell_type": "code",
   "execution_count": 19,
   "id": "f85c5f48",
   "metadata": {},
   "outputs": [],
   "source": [
    "from langchain_community.document_loaders import PyPDFLoader, DirectoryLoader\n",
    "from langchain.text_splitter import RecursiveCharacterTextSplitter\n",
    "from langchain_community.vectorstores import FAISS\n",
    "from langchain.prompts import PromptTemplate, ChatPromptTemplate,MessagesPlaceholder\n",
    "from langchain_openai import OpenAIEmbeddings, ChatOpenAI\n",
    "from langchain_core.runnables import RunnableLambda, RunnablePassthrough, RunnableParallel\n",
    "from langchain_core.output_parsers import StrOutputParser\n",
    "from langchain_core.runnables.history import RunnableWithMessageHistory\n",
    "from langchain.memory import ChatMessageHistory\n",
    "from langchain.retrievers.contextual_compression import ContextualCompressionRetriever\n",
    "from langchain.retrievers.document_compressors import LLMChainExtractor\n",
    "\n",
    "import numpy as np\n",
    "\n",
    "from langchain_core.chat_history import BaseChatMessageHistory\n",
    "from langchain_core.messages import BaseMessage, AIMessage\n",
    "from pydantic import BaseModel, Field\n",
    "from dotenv import load_dotenv"
   ]
  },
  {
   "cell_type": "code",
   "execution_count": null,
   "id": "fef784bd",
   "metadata": {},
   "outputs": [],
   "source": [
    "OPENAI_API_KEY = \"YOUR_OPENAI\""
   ]
  },
  {
   "cell_type": "code",
   "execution_count": 5,
   "id": "c40c3faf",
   "metadata": {},
   "outputs": [],
   "source": [
    "loader = DirectoryLoader(\"/Users/yogeshagrawal/Desktop/Gen AI/25.Medical_Chat_bot/Data\", glob=\"*.pdf\", loader_cls=PyPDFLoader)\n",
    "docs = loader.load()\n",
    "\n",
    "\n",
    "text_splitter = RecursiveCharacterTextSplitter(chunk_size = 500, chunk_overlap = 50)\n",
    "texts = text_splitter.split_documents(docs)\n",
    "\n",
    "embeddings = OpenAIEmbeddings(model=\"text-embedding-3-small\")\n",
    "\n",
    "vectorstore = FAISS.from_documents(texts, embeddings)\n",
    "\n",
    "llm_model = ChatOpenAI()\n",
    "\n",
    "\n",
    "parser = StrOutputParser()"
   ]
  },
  {
   "cell_type": "code",
   "execution_count": 20,
   "id": "f7fa3528",
   "metadata": {},
   "outputs": [],
   "source": [
    "retriever = vectorstore.as_retriever(search_type=\"similarity\", search_kwargs={\"k\":20})\n",
    "compressor = LLMChainExtractor.from_llm(llm_model)\n",
    "\n",
    "compression_retriever = ContextualCompressionRetriever(\n",
    "    base_compressor=compressor,\n",
    "    base_retriever=retriever  # your existing retriever\n",
    ")\n",
    "\n",
    "def format_docs(retrieved_docs):\n",
    "    metadata = []\n",
    "    for docs in retrieved_docs:\n",
    "        source = docs.metadata['source']\n",
    "        page_label = docs.metadata['page_label']\n",
    "        metadata.append({\"source\":source,\"page_label\": page_label})\n",
    "\n",
    "    display(metadata)\n",
    "    \n",
    "    return \"\\n\\n\".join([doc.page_content for doc in retrieved_docs])\n",
    "\n",
    "\n",
    "def dot_product(a, b):\n",
    "    return np.dot(a, b)\n",
    "\n",
    "def rerank_openai(query: str, docs, embeddings_model, top_k=5):\n",
    "    query_embedding = embeddings_model.embed_query(query)\n",
    "    \n",
    "    doc_embeddings = [embeddings_model.embed_query(doc.page_content) for doc in docs]\n",
    "    scores = [dot_product(query_embedding, doc_emb) for doc_emb in doc_embeddings]\n",
    "    \n",
    "    ranked_docs = sorted(zip(scores, docs), key=lambda x: x[0], reverse=True)\n",
    "    print(ranked_docs)\n",
    "    return [doc for _, doc in ranked_docs[:top_k]]\n",
    "\n",
    "def retrieve_and_rerank(inputs):\n",
    "    raw_docs = compression_retriever.invoke(inputs[\"question\"])\n",
    "    reranked = rerank_openai(inputs[\"question\"], raw_docs,embeddings)\n",
    "    return reranked\n",
    "\n",
    "\n",
    "reranked_retriever = RunnableLambda(retrieve_and_rerank)"
   ]
  },
  {
   "cell_type": "code",
   "execution_count": 18,
   "id": "d0a1317d",
   "metadata": {},
   "outputs": [],
   "source": [
    "system_prompt = (\n",
    "    \"\"\"\n",
    "    You are a helpful medical assistant for question answering task.use the following pieces of context to answer the answer.If you don't know the answer, just say \"I don't know\".\n",
    "    \\n\\n\n",
    "    {context}\n",
    "    \"\"\"\n",
    ")\n",
    "\n",
    "prompt = ChatPromptTemplate.from_messages(\n",
    "    [\n",
    "        (\"system\", system_prompt),\n",
    "        (\"user\", \"{chat_history}\"),\n",
    "        (\"human\", \"{input}\")\n",
    "    ]\n",
    ")"
   ]
  },
  {
   "cell_type": "code",
   "execution_count": 12,
   "id": "d37dc197",
   "metadata": {},
   "outputs": [],
   "source": [
    "\n",
    "# Dictionary to hold memory per session\n",
    "message_histories = {}\n",
    "\n",
    "def get_session_history(session_id):\n",
    "    return message_histories.setdefault(session_id, ChatMessageHistory())\n",
    "\n",
    "# class InMemoryHistory(BaseChatMessageHistory, BaseModel):\n",
    "#     \"\"\"In memory implementation of chat message history.\"\"\"\n",
    "\n",
    "#     messages: list[BaseMessage] = Field(default_factory=list)\n",
    "\n",
    "#     def add_messages(self, messages: list[BaseMessage]) -> None:\n",
    "#         \"\"\"Add a list of messages to the store\"\"\"\n",
    "#         self.messages.extend(messages)\n",
    "\n",
    "#     def clear(self) -> None:\n",
    "#         self.messages = []\n",
    "\n",
    "# store = {}\n",
    "# def get_by_session_id(session_id: str) -> BaseChatMessageHistory:\n",
    "#     if session_id not in store:\n",
    "#         store[session_id] = InMemoryHistory()\n",
    "#     return store[session_id]\n"
   ]
  },
  {
   "cell_type": "code",
   "execution_count": 21,
   "id": "014ebd4d",
   "metadata": {},
   "outputs": [
    {
     "name": "stdout",
     "output_type": "stream",
     "text": [
      "[(np.float64(0.5918293882849612), Document(metadata={'producer': 'PDFlib+PDI 5.0.0 (SunOS)', 'creator': 'PyPDF', 'creationdate': '2004-12-18T17:00:02-05:00', 'moddate': '2004-12-18T16:15:31-06:00', 'source': '/Users/yogeshagrawal/Desktop/Gen AI/25.Medical_Chat_bot/Data/Medical_book.pdf', 'total_pages': 637, 'page': 89, 'page_label': '90'}, page_content='AIDS is usually marked by a very low number of CD4+ lymphocytes, followed by a rise in the frequency of opportunistic infections and cancers. Doctors monitor the number and proportion of CD4+ lymphocytes in the patient’s blood in order to assess the progression of the disease and the effectiveness of different medications.')), (np.float64(0.5862299739266871), Document(metadata={'producer': 'PDFlib+PDI 5.0.0 (SunOS)', 'creator': 'PyPDF', 'creationdate': '2004-12-18T17:00:02-05:00', 'moddate': '2004-12-18T16:15:31-06:00', 'source': '/Users/yogeshagrawal/Desktop/Gen AI/25.Medical_Chat_bot/Data/Medical_book.pdf', 'total_pages': 637, 'page': 86, 'page_label': '87'}, page_content='Acquired immune deficiency syndrome (AIDS) is an\\ninfectious disease caused by the human immunodeficien-\\ncy virus (HIV). It was first recognized in the United States\\nin 1981. No vaccine\\nis currently available to prevent HIV infection.')), (np.float64(0.5553403874838199), Document(metadata={'producer': 'PDFlib+PDI 5.0.0 (SunOS)', 'creator': 'PyPDF', 'creationdate': '2004-12-18T17:00:02-05:00', 'moddate': '2004-12-18T16:15:31-06:00', 'source': '/Users/yogeshagrawal/Desktop/Gen AI/25.Medical_Chat_bot/Data/Medical_book.pdf', 'total_pages': 637, 'page': 94, 'page_label': '95'}, page_content='the treatment of AIDS.')), (np.float64(0.5283680942783575), Document(metadata={'producer': 'PDFlib+PDI 5.0.0 (SunOS)', 'creator': 'PyPDF', 'creationdate': '2004-12-18T17:00:02-05:00', 'moddate': '2004-12-18T16:15:31-06:00', 'source': '/Users/yogeshagrawal/Desktop/Gen AI/25.Medical_Chat_bot/Data/Medical_book.pdf', 'total_pages': 637, 'page': 100, 'page_label': '101'}, page_content='National Association of People with Aids. 1413 K St.N.W., Washington, DC 20005-3442. (202) 898-0414.')), (np.float64(0.5247313124173648), Document(metadata={'producer': 'PDFlib+PDI 5.0.0 (SunOS)', 'creator': 'PyPDF', 'creationdate': '2004-12-18T17:00:02-05:00', 'moddate': '2004-12-18T16:15:31-06:00', 'source': '/Users/yogeshagrawal/Desktop/Gen AI/25.Medical_Chat_bot/Data/Medical_book.pdf', 'total_pages': 637, 'page': 95, 'page_label': '96'}, page_content='blood tests used with AIDS patients, it is helpful to\\nunderstand how HIV infection affects human blood and\\nthe immune system. HIV is a retrovirus that enters the\\nblood stream of a new host in the following ways:\\n• by sexual contact\\n• by contact with infected body fluids (such as blood and\\nurine)\\n• by transmission during pregnancy,o r\\n• through transfusion of infected blood products\\nA retrovirus is a virus that contains a unique enzyme')), (np.float64(0.5219662586938205), Document(metadata={'producer': 'PDFlib+PDI 5.0.0 (SunOS)', 'creator': 'PyPDF', 'creationdate': '2004-12-18T17:00:02-05:00', 'moddate': '2004-12-18T16:15:31-06:00', 'source': '/Users/yogeshagrawal/Desktop/Gen AI/25.Medical_Chat_bot/Data/Medical_book.pdf', 'total_pages': 637, 'page': 86, 'page_label': '87'}, page_content='AIDS is considered one of the most devastating public health problems in recent history.')), (np.float64(0.5017179085352216), Document(metadata={'producer': 'PDFlib+PDI 5.0.0 (SunOS)', 'creator': 'PyPDF', 'creationdate': '2004-12-18T17:00:02-05:00', 'moddate': '2004-12-18T16:15:31-06:00', 'source': '/Users/yogeshagrawal/Desktop/Gen AI/25.Medical_Chat_bot/Data/Medical_book.pdf', 'total_pages': 637, 'page': 91, 'page_label': '92'}, page_content='Most of the damage to an AIDS patient’s immune system is done by the virus’ destruction of CD4+ lymphocytes.')), (np.float64(0.46877998108748475), Document(metadata={'producer': 'PDFlib+PDI 5.0.0 (SunOS)', 'creator': 'PyPDF', 'creationdate': '2004-12-18T17:00:02-05:00', 'moddate': '2004-12-18T16:15:31-06:00', 'source': '/Users/yogeshagrawal/Desktop/Gen AI/25.Medical_Chat_bot/Data/Medical_book.pdf', 'total_pages': 637, 'page': 94, 'page_label': '95'}, page_content='• If treated aggressively early\\non, the development of AIDS may be postponed indefinitely.')), (np.float64(0.46487393016616996), Document(metadata={'producer': 'PDFlib+PDI 5.0.0 (SunOS)', 'creator': 'PyPDF', 'creationdate': '2004-12-18T17:00:02-05:00', 'moddate': '2004-12-18T16:15:31-06:00', 'source': '/Users/yogeshagrawal/Desktop/Gen AI/25.Medical_Chat_bot/Data/Medical_book.pdf', 'total_pages': 637, 'page': 87, 'page_label': '88'}, page_content='The World Health Organization (WHO) estimates that\\n33 million adults and 1.3 million children worldwide were\\nliving with HIV/AIDS as of 1999 with 5.4 million being\\nnewly infected that year. Most of these cases are in the\\ndeveloping countries of Asia and Africa.')), (np.float64(0.4613877310267087), Document(metadata={'producer': 'PDFlib+PDI 5.0.0 (SunOS)', 'creator': 'PyPDF', 'creationdate': '2004-12-18T17:00:02-05:00', 'moddate': '2004-12-18T16:15:31-06:00', 'source': '/Users/yogeshagrawal/Desktop/Gen AI/25.Medical_Chat_bot/Data/Medical_book.pdf', 'total_pages': 637, 'page': 99, 'page_label': '100'}, page_content='Preparation and aftercare are important parts of AIDS\\ndiagnostic testing.')), (np.float64(0.1803567982960224), Document(metadata={'producer': 'PDFlib+PDI 5.0.0 (SunOS)', 'creator': 'PyPDF', 'creationdate': '2004-12-18T17:00:02-05:00', 'moddate': '2004-12-18T16:15:31-06:00', 'source': '/Users/yogeshagrawal/Desktop/Gen AI/25.Medical_Chat_bot/Data/Medical_book.pdf', 'total_pages': 637, 'page': 94, 'page_label': '95'}, page_content='Prevention'))]\n"
     ]
    },
    {
     "data": {
      "text/plain": [
       "[{'source': '/Users/yogeshagrawal/Desktop/Gen AI/25.Medical_Chat_bot/Data/Medical_book.pdf',\n",
       "  'page_label': '90'},\n",
       " {'source': '/Users/yogeshagrawal/Desktop/Gen AI/25.Medical_Chat_bot/Data/Medical_book.pdf',\n",
       "  'page_label': '87'},\n",
       " {'source': '/Users/yogeshagrawal/Desktop/Gen AI/25.Medical_Chat_bot/Data/Medical_book.pdf',\n",
       "  'page_label': '95'},\n",
       " {'source': '/Users/yogeshagrawal/Desktop/Gen AI/25.Medical_Chat_bot/Data/Medical_book.pdf',\n",
       "  'page_label': '101'},\n",
       " {'source': '/Users/yogeshagrawal/Desktop/Gen AI/25.Medical_Chat_bot/Data/Medical_book.pdf',\n",
       "  'page_label': '96'}]"
      ]
     },
     "metadata": {},
     "output_type": "display_data"
    },
    {
     "name": "stdout",
     "output_type": "stream",
     "text": [
      "AIDS (Acquired Immune Deficiency Syndrome) is an infectious disease caused by the human immunodeficiency virus (HIV). It is the advanced stage of HIV infection, characterized by a severe depletion of CD4+ lymphocytes, leading to opportunistic infections and cancers. Regular monitoring of CD4+ cell count and viral load is essential for managing the disease progression and treatment effectiveness.\n"
     ]
    }
   ],
   "source": [
    "# parallel_chain = RunnableParallel({\n",
    "#    \"context\": RunnableLambda(lambda x: x[\"question\"]) | retriever | RunnableLambda(format_docs),\n",
    "#     \"input\": RunnableLambda(lambda x: x[\"question\"]),\n",
    "#     \"chat_history\": RunnableLambda(lambda x: x.get(\"chat_history\", \"\"))\n",
    "# })\n",
    "\n",
    "parallel_chain = RunnableParallel({\n",
    "   \"context\": reranked_retriever | RunnableLambda(format_docs),\n",
    "    \"input\": RunnableLambda(lambda x: x[\"question\"]),\n",
    "    \"chat_history\": RunnableLambda(lambda x: x.get(\"chat_history\", \"\"))\n",
    "})\n",
    "\n",
    "# result = parallel_chain.invoke('what is LLama 2 ?')\n",
    "\n",
    "main_chain = parallel_chain | prompt | llm_model | parser\n",
    "\n",
    "\n",
    "\n",
    "# Wrap the chain with memory management\n",
    "rag_with_memory = RunnableWithMessageHistory(\n",
    "    main_chain,\n",
    "    get_session_history,\n",
    "    input_messages_key=\"question\",\n",
    "    history_messages_key=\"chat_history\",\n",
    ")\n",
    "\n",
    "response = rag_with_memory.invoke(\n",
    "    {\"question\": \"tell me about aids ?\"},\n",
    "    config={\"configurable\": {\"session_id\": \"user-001\"}}\n",
    ")\n",
    "\n",
    "print(response)\n",
    "\n",
    "# # # --- Run the chain ---\n",
    "# print(main_chain.invoke(\"What is ?\"))"
   ]
  },
  {
   "cell_type": "code",
   "execution_count": null,
   "id": "a20f5b51",
   "metadata": {},
   "outputs": [],
   "source": []
  }
 ],
 "metadata": {
  "kernelspec": {
   "display_name": "venv",
   "language": "python",
   "name": "python3"
  },
  "language_info": {
   "codemirror_mode": {
    "name": "ipython",
    "version": 3
   },
   "file_extension": ".py",
   "mimetype": "text/x-python",
   "name": "python",
   "nbconvert_exporter": "python",
   "pygments_lexer": "ipython3",
   "version": "3.12.7"
  }
 },
 "nbformat": 4,
 "nbformat_minor": 5
}
