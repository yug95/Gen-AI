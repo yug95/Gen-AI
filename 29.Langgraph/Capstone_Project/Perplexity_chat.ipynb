{
 "cells": [
  {
   "cell_type": "code",
   "execution_count": 9,
   "id": "ba4f5118",
   "metadata": {},
   "outputs": [
    {
     "data": {
      "text/plain": [
       "True"
      ]
     },
     "execution_count": 9,
     "metadata": {},
     "output_type": "execute_result"
    }
   ],
   "source": [
    "from typing import Annotated, Optional, TypedDict\n",
    "from pydantic import BaseModel, Field\n",
    "from langchain_core.prompts import ChatPromptTemplate\n",
    "from langchain_core.messages import HumanMessage, AIMessage, SystemMessage,ToolMessage\n",
    "from langgraph.graph import StateGraph, END,add_messages\n",
    "from langchain_openai import ChatOpenAI\n",
    "from dotenv import load_dotenv\n",
    "from langchain_community.tools.tavily_search import TavilySearchResults\n",
    "from langgraph.checkpoint.memory import MemorySaver\n",
    "from uuid import uuid4\n",
    "load_dotenv()"
   ]
  },
  {
   "cell_type": "code",
   "execution_count": 10,
   "id": "c9f9e2ea",
   "metadata": {},
   "outputs": [],
   "source": [
    "llm_model = ChatOpenAI()\n",
    "search_tool = TavilySearchResults()\n",
    "memory = MemorySaver()\n",
    "\n",
    "tools = [search_tool]\n",
    "\n",
    "llm_with_tools = llm_model.bind_tools(tools)"
   ]
  },
  {
   "cell_type": "code",
   "execution_count": 11,
   "id": "5b034d2a",
   "metadata": {},
   "outputs": [],
   "source": [
    "class Agent_state(TypedDict):\n",
    "   messages : Annotated[list, add_messages]"
   ]
  },
  {
   "cell_type": "code",
   "execution_count": 12,
   "id": "9064f46a",
   "metadata": {},
   "outputs": [],
   "source": [
    "async def model_node(state:Agent_state):\n",
    "    result = await llm_with_tools.ainvoke(state['messages'])\n",
    "    return {\n",
    "        \"messages\":[result]\n",
    "    }"
   ]
  },
  {
   "cell_type": "code",
   "execution_count": 13,
   "id": "c6253c1e",
   "metadata": {},
   "outputs": [],
   "source": [
    "async def tool_router(state:Agent_state):\n",
    "    last_message = state[\"messages\"][-1]\n",
    "    if(hasattr(last_message, \"tool_calls\") and len(last_message.tool_calls) > 0):\n",
    "        return \"tool_node\"\n",
    "    else: \n",
    "        return END\n",
    "    \n",
    "async def tool_node(state:Agent_state):\n",
    "    tool_calls = state[\"messages\"][-1].tool_calls\n",
    "    print(tool_calls)\n",
    "\n",
    "    tool_messages = []\n",
    "\n",
    "    for tool_call in tool_calls:\n",
    "        tool_name = tool_call['name']\n",
    "        tool_args = tool_call[\"args\"]\n",
    "        tool_id = tool_call[\"id\"]\n",
    "\n",
    "        if tool_name == \"tavily_search_results_json\":\n",
    "            # Invoke the search tool with the arguments\n",
    "            search_result = await search_tool.ainvoke(tool_args)\n",
    "            # Create a message for the tool response\n",
    "            tool_message = ToolMessage(\n",
    "                content = str(search_result),\n",
    "                tool_call_id = tool_id,\n",
    "                tool_name = tool_name,\n",
    "            )\n",
    "    \n",
    "            tool_messages.append(tool_message)\n",
    "    \n",
    "    return {\n",
    "        'messages':tool_messages\n",
    "    }"
   ]
  },
  {
   "cell_type": "code",
   "execution_count": 14,
   "id": "4a0edd93",
   "metadata": {},
   "outputs": [],
   "source": [
    "graph_builder = StateGraph(Agent_state)\n",
    "graph_builder.add_node(\"model_node\", model_node)\n",
    "graph_builder.add_node(\"tool_node\", tool_node)\n",
    "graph_builder.set_entry_point(\"model_node\")\n",
    "graph_builder.add_conditional_edges(\"model_node\", tool_router)\n",
    "graph_builder.add_edge(\"tool_node\", \"model_node\")\n",
    "\n",
    "graph = graph_builder.compile(checkpointer=memory)\n",
    "\n",
    "config = {\n",
    "    \"configurable\":{\n",
    "        \"thread_id\":2\n",
    "    }\n",
    "}\n",
    "\n",
    "# response = await graph.ainvoke({\"messages\": [\"when is the next spaceX Launch ?\"]}, config=config)"
   ]
  },
  {
   "cell_type": "code",
   "execution_count": 15,
   "id": "d9f48daf",
   "metadata": {},
   "outputs": [
    {
     "name": "stdout",
     "output_type": "stream",
     "text": [
      "[{'name': 'tavily_search_results_json', 'args': {'query': 'next SpaceX launch'}, 'id': 'call_KFrS8JowDuQGew7tWj8FZgtb', 'type': 'tool_call'}]\n",
      "The next SpaceX launch is scheduled for June 13 at 1:46 am UTC. It will be the Falcon 9 Block 5 Starlink Group 15-6 mission. You can find more information on the [RocketLaunch.org website](https://rocketlaunch.org/launch-schedule/spacex)."
     ]
    }
   ],
   "source": [
    "events = graph.astream_events(\n",
    "    {\"messages\":[\"when is the next spaceX Launch ?\"]},\n",
    "    config=config,\n",
    ")\n",
    "\n",
    "async for event in events:\n",
    "    # print(event)\n",
    "    if event['event'] == \"on_chat_model_stream\":\n",
    "        print(event['data']['chunk'].content, end='')"
   ]
  }
 ],
 "metadata": {
  "kernelspec": {
   "display_name": "venv",
   "language": "python",
   "name": "python3"
  },
  "language_info": {
   "codemirror_mode": {
    "name": "ipython",
    "version": 3
   },
   "file_extension": ".py",
   "mimetype": "text/x-python",
   "name": "python",
   "nbconvert_exporter": "python",
   "pygments_lexer": "ipython3",
   "version": "3.12.7"
  }
 },
 "nbformat": 4,
 "nbformat_minor": 5
}
