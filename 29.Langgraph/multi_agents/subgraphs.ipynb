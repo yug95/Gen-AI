{
 "cells": [
  {
   "cell_type": "code",
   "execution_count": 65,
   "id": "9873e6e5",
   "metadata": {},
   "outputs": [
    {
     "data": {
      "text/plain": [
       "True"
      ]
     },
     "execution_count": 65,
     "metadata": {},
     "output_type": "execute_result"
    }
   ],
   "source": [
    "from typing import List,TypedDict, Annotated\n",
    "from langchain_openai import ChatOpenAI\n",
    "from langchain_core.prompts import ChatPromptTemplate\n",
    "from langchain_core.messages import HumanMessage, AIMessage, SystemMessage, BaseMessage\n",
    "from langgraph.graph import StateGraph, END, START, add_messages\n",
    "from langgraph.prebuilt import ToolNode\n",
    "from langchain_community.tools.tavily_search import TavilySearchResults\n",
    "from dotenv import load_dotenv\n",
    "load_dotenv()"
   ]
  },
  {
   "cell_type": "code",
   "execution_count": 66,
   "id": "1a9db26f",
   "metadata": {},
   "outputs": [],
   "source": [
    "# create the subgraph state\n",
    "class child_state(TypedDict):\n",
    "    messages : Annotated[List, add_messages]"
   ]
  },
  {
   "cell_type": "code",
   "execution_count": 67,
   "id": "0d6e8ce9",
   "metadata": {},
   "outputs": [],
   "source": [
    "llm = ChatOpenAI(model=\"gpt-4o\", temperature=0.0)\n",
    "\n",
    "search_tool = TavilySearchResults(max_results=2)\n",
    "tools = [search_tool]\n",
    "\n",
    "llm_with_tools = llm.bind_tools(tools = tools)\n",
    "\n",
    "# llm_with_tools.invoke(\"what is the weather of bangalore?\")"
   ]
  },
  {
   "cell_type": "code",
   "execution_count": 68,
   "id": "febb009a",
   "metadata": {},
   "outputs": [],
   "source": [
    "def child_search_agent(state: child_state) -> child_state:\n",
    "    \"\"\"\n",
    "    This function is the child state that performs a search using the TavilySearchResults tool.\n",
    "    It takes the current state, performs a search, and returns the updated state with the search results.\n",
    "    \"\"\"\n",
    "    print(\"Child search agent invoked\")\n",
    "    # if 'conversation' not in state:\n",
    "    #     state['conversation'] = []\n",
    "    state['messages'].append(llm_with_tools.invoke(state['messages']))\n",
    "    print(state)\n",
    "    return state"
   ]
  },
  {
   "cell_type": "code",
   "execution_count": 69,
   "id": "7b42ee8a",
   "metadata": {},
   "outputs": [],
   "source": [
    "def tools_router(state: child_state):\n",
    "    \"\"\"\n",
    "    This function routes the conversation to the appropriate tool based on the content of the last message.\n",
    "    If the last message contains 'search', it routes to the search tool; otherwise, it returns END.\n",
    "    \"\"\"\n",
    "    print(\"Tools router invoked\")\n",
    "    last_message =  state['messages'][-1]\n",
    "    print(f\"Last message: {last_message}\")\n",
    "    if hasattr(last_message, 'tool_calls') and len(last_message.tool_calls) > 0:\n",
    "        print(\"Routing to tool node\")\n",
    "        return 'tool_node'\n",
    "    else:\n",
    "        return END"
   ]
  },
  {
   "cell_type": "code",
   "execution_count": 70,
   "id": "1f20cb2b",
   "metadata": {},
   "outputs": [],
   "source": [
    "tool_node = ToolNode(tools=tools)"
   ]
  },
  {
   "cell_type": "code",
   "execution_count": 71,
   "id": "d8f109b1",
   "metadata": {},
   "outputs": [],
   "source": [
    "subgraph = StateGraph(child_state)\n",
    "subgraph.add_node(\"child_search_agent\", child_search_agent)\n",
    "subgraph.add_node('tool_node',tool_node)\n",
    "\n",
    "subgraph.set_entry_point(\"child_search_agent\")\n",
    "\n",
    "subgraph.add_conditional_edges(\"child_search_agent\",tools_router)\n",
    "subgraph.add_edge(\"tool_node\", \"child_search_agent\")\n",
    "\n",
    "search_app = subgraph.compile()\n",
    "\n",
    "# search_app.invoke({'messages': [HumanMessage(\"what is the weather of bangalore?\")]})"
   ]
  },
  {
   "cell_type": "code",
   "execution_count": 72,
   "id": "b98f8bb2",
   "metadata": {},
   "outputs": [],
   "source": [
    "class ParentState(TypedDict):\n",
    "    messages: Annotated[List[BaseMessage], add_messages]\n",
    "\n",
    "parent_graph = StateGraph(ParentState)\n",
    "parent_graph.add_node(\"search_app\", search_app)\n",
    "\n",
    "parent_graph.add_edge(START, \"search_app\")\n",
    "parent_graph.add_edge(\"search_app\", END)\n",
    "\n",
    "parent_app = parent_graph.compile()\n",
    "# parent_app.invoke({'messages': [HumanMessage(\"what is the weather of bangalore?\")]})"
   ]
  },
  {
   "cell_type": "code",
   "execution_count": 73,
   "id": "658c259b",
   "metadata": {},
   "outputs": [
    {
     "name": "stdout",
     "output_type": "stream",
     "text": [
      "Child search agent invoked\n",
      "{'messages': [HumanMessage(content='what is the weather of bangalore?', additional_kwargs={}, response_metadata={}, id='32ec9c6e-5c89-4bd6-99a4-9b8192a1a359'), AIMessage(content='', additional_kwargs={'tool_calls': [{'id': 'call_ZC9KlDdOD9tje6CvOJuE6lYY', 'function': {'arguments': '{\"query\":\"Bangalore weather today\"}', 'name': 'tavily_search_results_json'}, 'type': 'function'}], 'refusal': None}, response_metadata={'token_usage': {'completion_tokens': 21, 'prompt_tokens': 87, 'total_tokens': 108, 'completion_tokens_details': {'accepted_prediction_tokens': 0, 'audio_tokens': 0, 'reasoning_tokens': 0, 'rejected_prediction_tokens': 0}, 'prompt_tokens_details': {'audio_tokens': 0, 'cached_tokens': 0}}, 'model_name': 'gpt-4o-2024-08-06', 'system_fingerprint': 'fp_a288987b44', 'id': 'chatcmpl-BglMX6U5Wvbr10mmWO3Qorhn94Rq8', 'service_tier': 'default', 'finish_reason': 'tool_calls', 'logprobs': None}, id='run--5789d004-2146-4ee1-a55e-d3a82a1a02b3-0', tool_calls=[{'name': 'tavily_search_results_json', 'args': {'query': 'Bangalore weather today'}, 'id': 'call_ZC9KlDdOD9tje6CvOJuE6lYY', 'type': 'tool_call'}], usage_metadata={'input_tokens': 87, 'output_tokens': 21, 'total_tokens': 108, 'input_token_details': {'audio': 0, 'cache_read': 0}, 'output_token_details': {'audio': 0, 'reasoning': 0}})]}\n",
      "Tools router invoked\n",
      "Last message: content='' additional_kwargs={'tool_calls': [{'id': 'call_ZC9KlDdOD9tje6CvOJuE6lYY', 'function': {'arguments': '{\"query\":\"Bangalore weather today\"}', 'name': 'tavily_search_results_json'}, 'type': 'function'}], 'refusal': None} response_metadata={'token_usage': {'completion_tokens': 21, 'prompt_tokens': 87, 'total_tokens': 108, 'completion_tokens_details': {'accepted_prediction_tokens': 0, 'audio_tokens': 0, 'reasoning_tokens': 0, 'rejected_prediction_tokens': 0}, 'prompt_tokens_details': {'audio_tokens': 0, 'cached_tokens': 0}}, 'model_name': 'gpt-4o-2024-08-06', 'system_fingerprint': 'fp_a288987b44', 'id': 'chatcmpl-BglMX6U5Wvbr10mmWO3Qorhn94Rq8', 'service_tier': 'default', 'finish_reason': 'tool_calls', 'logprobs': None} id='run--5789d004-2146-4ee1-a55e-d3a82a1a02b3-0' tool_calls=[{'name': 'tavily_search_results_json', 'args': {'query': 'Bangalore weather today'}, 'id': 'call_ZC9KlDdOD9tje6CvOJuE6lYY', 'type': 'tool_call'}] usage_metadata={'input_tokens': 87, 'output_tokens': 21, 'total_tokens': 108, 'input_token_details': {'audio': 0, 'cache_read': 0}, 'output_token_details': {'audio': 0, 'reasoning': 0}}\n",
      "Routing to tool node\n",
      "Child search agent invoked\n",
      "{'messages': [HumanMessage(content='what is the weather of bangalore?', additional_kwargs={}, response_metadata={}, id='32ec9c6e-5c89-4bd6-99a4-9b8192a1a359'), AIMessage(content='', additional_kwargs={'tool_calls': [{'id': 'call_ZC9KlDdOD9tje6CvOJuE6lYY', 'function': {'arguments': '{\"query\":\"Bangalore weather today\"}', 'name': 'tavily_search_results_json'}, 'type': 'function'}], 'refusal': None}, response_metadata={'token_usage': {'completion_tokens': 21, 'prompt_tokens': 87, 'total_tokens': 108, 'completion_tokens_details': {'accepted_prediction_tokens': 0, 'audio_tokens': 0, 'reasoning_tokens': 0, 'rejected_prediction_tokens': 0}, 'prompt_tokens_details': {'audio_tokens': 0, 'cached_tokens': 0}}, 'model_name': 'gpt-4o-2024-08-06', 'system_fingerprint': 'fp_a288987b44', 'id': 'chatcmpl-BglMX6U5Wvbr10mmWO3Qorhn94Rq8', 'service_tier': 'default', 'finish_reason': 'tool_calls', 'logprobs': None}, id='run--5789d004-2146-4ee1-a55e-d3a82a1a02b3-0', tool_calls=[{'name': 'tavily_search_results_json', 'args': {'query': 'Bangalore weather today'}, 'id': 'call_ZC9KlDdOD9tje6CvOJuE6lYY', 'type': 'tool_call'}], usage_metadata={'input_tokens': 87, 'output_tokens': 21, 'total_tokens': 108, 'input_token_details': {'audio': 0, 'cache_read': 0}, 'output_token_details': {'audio': 0, 'reasoning': 0}}), ToolMessage(content='[{\"title\": \"Bengaluru Weather Forecast 10 Jun 2025 - Times of India\", \"url\": \"https://timesofindia.indiatimes.com/weather/bengaluru-weather-forecast-today/560001\", \"content\": \"Today\\'s Weather in Bengaluru: In Bengaluru today, the weather is expected to be Partly Cloudy with a maximum temperature of 29°C and a minimum of 22°C.\", \"score\": 0.95724994}, {\"title\": \"Bangalore Weather Today (Tuesday, Jun 10, 2025) - India Today\", \"url\": \"https://www.indiatoday.in/weather/bangalore-weather-forecast-today\", \"content\": \"![humdity]( https://cf-img-a-in.tosshub.com/sites/weather/resources/image/humidity.svg)\\\\n![pressure](https://cf-img-a-in.tosshub.com/sites/weather/resources/image/pressure.svg)\\\\n![lon]( https://cf-img-a-in.tosshub.com/sites/weather/resources/image/lon.svg)\\\\n![lat]( https://cf-img-a-in.tosshub.com/sites/weather/resources/image/lat.svg)\\\\n![speed](https://cf-img-a-in.tosshub.com/sites/weather/resources/image/speed.svg)\\\\n![deg](https://cf-img-a-in.tosshub.com/sites/weather/resources/image/deg.svg) [...] ![gust](https://cf-img-a-in.tosshub.com/sites/weather/resources/image/gust.svg)\\\\n![Rain](https://cf-img-a-in.tosshub.com/sites/weather/resources/image/svg/10d.png)\\\\n![Rain](https://cf-img-a-in.tosshub.com/sites/weather/resources/image/svg/10d.png)\\\\n![Rain](https://cf-img-a-in.tosshub.com/sites/weather/resources/image/svg/10d.png)\\\\n![Rain](https://cf-img-a-in.tosshub.com/sites/weather/resources/image/svg/10d.png)\\\\n![Rain](https://cf-img-a-in.tosshub.com/sites/weather/resources/image/svg/10d.png) [...] The minimum temperature in Bangalore today is likely to hover around 21 degrees Celsius, while the maximum temperature might reach 31 degrees Celsius. The mercury level is expected to hover around 22 degrees Celsius throughout the day, with the wind speed around 5.66. The wind will move around 301 degrees with a gust speed of 10.24. The sunrise time is 05:53 AM, while it will set at 06:46 PM on Tuesday. As per the seven-day weather prediction, the temperature in Bangalore is likely to reach 31\", \"score\": 0.89501935}]', name='tavily_search_results_json', id='aab140d1-e0b0-47ab-8841-c4d78282d72b', tool_call_id='call_ZC9KlDdOD9tje6CvOJuE6lYY', artifact={'query': 'Bangalore weather today', 'follow_up_questions': None, 'answer': None, 'images': [], 'results': [{'url': 'https://timesofindia.indiatimes.com/weather/bengaluru-weather-forecast-today/560001', 'title': 'Bengaluru Weather Forecast 10 Jun 2025 - Times of India', 'content': \"Today's Weather in Bengaluru: In Bengaluru today, the weather is expected to be Partly Cloudy with a maximum temperature of 29°C and a minimum of 22°C.\", 'score': 0.95724994, 'raw_content': None}, {'url': 'https://www.indiatoday.in/weather/bangalore-weather-forecast-today', 'title': 'Bangalore Weather Today (Tuesday, Jun 10, 2025) - India Today', 'content': '![humdity]( https://cf-img-a-in.tosshub.com/sites/weather/resources/image/humidity.svg)\\n![pressure](https://cf-img-a-in.tosshub.com/sites/weather/resources/image/pressure.svg)\\n![lon]( https://cf-img-a-in.tosshub.com/sites/weather/resources/image/lon.svg)\\n![lat]( https://cf-img-a-in.tosshub.com/sites/weather/resources/image/lat.svg)\\n![speed](https://cf-img-a-in.tosshub.com/sites/weather/resources/image/speed.svg)\\n![deg](https://cf-img-a-in.tosshub.com/sites/weather/resources/image/deg.svg) [...] ![gust](https://cf-img-a-in.tosshub.com/sites/weather/resources/image/gust.svg)\\n![Rain](https://cf-img-a-in.tosshub.com/sites/weather/resources/image/svg/10d.png)\\n![Rain](https://cf-img-a-in.tosshub.com/sites/weather/resources/image/svg/10d.png)\\n![Rain](https://cf-img-a-in.tosshub.com/sites/weather/resources/image/svg/10d.png)\\n![Rain](https://cf-img-a-in.tosshub.com/sites/weather/resources/image/svg/10d.png)\\n![Rain](https://cf-img-a-in.tosshub.com/sites/weather/resources/image/svg/10d.png) [...] The minimum temperature in Bangalore today is likely to hover around 21 degrees Celsius, while the maximum temperature might reach 31 degrees Celsius. The mercury level is expected to hover around 22 degrees Celsius throughout the day, with the wind speed around 5.66. The wind will move around 301 degrees with a gust speed of 10.24. The sunrise time is 05:53 AM, while it will set at 06:46 PM on Tuesday. As per the seven-day weather prediction, the temperature in Bangalore is likely to reach 31', 'score': 0.89501935, 'raw_content': None}], 'response_time': 4.29}), AIMessage(content=\"Today's weather in Bangalore is expected to be partly cloudy. The maximum temperature is likely to reach 31°C, while the minimum temperature might hover around 21°C. The wind speed is around 5.66 km/h, with gusts up to 10.24 km/h.\", additional_kwargs={'refusal': None}, response_metadata={'token_usage': {'completion_tokens': 58, 'prompt_tokens': 679, 'total_tokens': 737, 'completion_tokens_details': {'accepted_prediction_tokens': 0, 'audio_tokens': 0, 'reasoning_tokens': 0, 'rejected_prediction_tokens': 0}, 'prompt_tokens_details': {'audio_tokens': 0, 'cached_tokens': 0}}, 'model_name': 'gpt-4o-2024-08-06', 'system_fingerprint': 'fp_a288987b44', 'id': 'chatcmpl-BglMfORfNtAUHaL9CxznG71mgl7Hj', 'service_tier': 'default', 'finish_reason': 'stop', 'logprobs': None}, id='run--3f055da0-430a-4558-b8ac-708a842da0b6-0', usage_metadata={'input_tokens': 679, 'output_tokens': 58, 'total_tokens': 737, 'input_token_details': {'audio': 0, 'cache_read': 0}, 'output_token_details': {'audio': 0, 'reasoning': 0}})]}\n",
      "Tools router invoked\n",
      "Last message: content=\"Today's weather in Bangalore is expected to be partly cloudy. The maximum temperature is likely to reach 31°C, while the minimum temperature might hover around 21°C. The wind speed is around 5.66 km/h, with gusts up to 10.24 km/h.\" additional_kwargs={'refusal': None} response_metadata={'token_usage': {'completion_tokens': 58, 'prompt_tokens': 679, 'total_tokens': 737, 'completion_tokens_details': {'accepted_prediction_tokens': 0, 'audio_tokens': 0, 'reasoning_tokens': 0, 'rejected_prediction_tokens': 0}, 'prompt_tokens_details': {'audio_tokens': 0, 'cached_tokens': 0}}, 'model_name': 'gpt-4o-2024-08-06', 'system_fingerprint': 'fp_a288987b44', 'id': 'chatcmpl-BglMfORfNtAUHaL9CxznG71mgl7Hj', 'service_tier': 'default', 'finish_reason': 'stop', 'logprobs': None} id='run--3f055da0-430a-4558-b8ac-708a842da0b6-0' usage_metadata={'input_tokens': 679, 'output_tokens': 58, 'total_tokens': 737, 'input_token_details': {'audio': 0, 'cache_read': 0}, 'output_token_details': {'audio': 0, 'reasoning': 0}}\n"
     ]
    },
    {
     "data": {
      "text/plain": [
       "{'query': 'what is the weather of bangalore?',\n",
       " 'response': \"Today's weather in Bangalore is expected to be partly cloudy. The maximum temperature is likely to reach 31°C, while the minimum temperature might hover around 21°C. The wind speed is around 5.66 km/h, with gusts up to 10.24 km/h.\"}"
      ]
     },
     "execution_count": 73,
     "metadata": {},
     "output_type": "execute_result"
    }
   ],
   "source": [
    "# parent graph with different schema\n",
    "\n",
    "class ParentStatewithdifferentSchema(TypedDict):\n",
    "    query: str\n",
    "    response: str\n",
    "\n",
    "def search_agent(state: ParentStatewithdifferentSchema) -> ParentStatewithdifferentSchema:\n",
    "    \"\"\"\n",
    "    This function is the search agent that performs a search based on the query in the state.\n",
    "    It updates the response in the state with the result of the search.\n",
    "    \"\"\"\n",
    "    subgraph_input = {\n",
    "        'messages': [HumanMessage(content = state['query'])]\n",
    "    }\n",
    "\n",
    "    subgraph_output = search_app.invoke(subgraph_input)\n",
    "\n",
    "    state['response'] = subgraph_output['messages'][-1].content\n",
    "\n",
    "    return state\n",
    "\n",
    "\n",
    "parent_graph_with_different_schema = StateGraph(ParentStatewithdifferentSchema)\n",
    "parent_graph_with_different_schema.add_node(\"search_agent\", search_agent)\n",
    "parent_graph_with_different_schema.add_edge(START, \"search_agent\")\n",
    "parent_graph_with_different_schema.add_edge(\"search_agent\", END)\n",
    "\n",
    "parent_app = parent_graph_with_different_schema.compile()\n",
    "\n",
    "parent_app.invoke({'query': \"what is the weather of bangalore?\",'response': \"\"})"
   ]
  },
  {
   "cell_type": "code",
   "execution_count": null,
   "id": "2dee0b46",
   "metadata": {},
   "outputs": [],
   "source": []
  },
  {
   "cell_type": "code",
   "execution_count": null,
   "metadata": {},
   "outputs": [],
   "source": []
  }
 ],
 "metadata": {
  "kernelspec": {
   "display_name": "venv",
   "language": "python",
   "name": "python3"
  },
  "language_info": {
   "codemirror_mode": {
    "name": "ipython",
    "version": 3
   },
   "file_extension": ".py",
   "mimetype": "text/x-python",
   "name": "python",
   "nbconvert_exporter": "python",
   "pygments_lexer": "ipython3",
   "version": "3.12.7"
  }
 },
 "nbformat": 4,
 "nbformat_minor": 5
}
