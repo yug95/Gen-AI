{
 "cells": [
  {
   "cell_type": "code",
   "execution_count": 1,
   "id": "1b60d2cb",
   "metadata": {},
   "outputs": [
    {
     "data": {
      "text/plain": [
       "True"
      ]
     },
     "execution_count": 1,
     "metadata": {},
     "output_type": "execute_result"
    }
   ],
   "source": [
    "from langgraph.graph import END, StateGraph, add_messages\n",
    "from langchain_core.messages import HumanMessage, AIMessage\n",
    "from dotenv import load_dotenv\n",
    "from typing import TypedDict, Annotated\n",
    "\n",
    "from langchain_openai import ChatOpenAI\n",
    "from langchain_community.tools import TavilySearchResults\n",
    "from langgraph.prebuilt import ToolNode\n",
    "from langgraph.checkpoint.memory import MemorySaver\n",
    "load_dotenv()"
   ]
  },
  {
   "cell_type": "code",
   "execution_count": 2,
   "id": "924fba16",
   "metadata": {},
   "outputs": [],
   "source": [
    "llm = ChatOpenAI(model=\"gpt-4o\", temperature=0.1, max_tokens=1000)\n",
    "memory = MemorySaver()\n",
    "\n",
    "class ChatbotState(TypedDict):\n",
    "    messages : Annotated[list, add_messages]\n",
    "\n",
    "search_tool = TavilySearchResults()\n",
    "tools = [search_tool]\n",
    "\n",
    "llm_with_tools = llm.bind_tools(tools=tools)\n",
    "# print(llm_with_tools.invoke(\"what is current weather in bangalore?\"))\n",
    "\n",
    "def chat_bot_node(state: ChatbotState) -> ChatbotState:\n",
    "    \"\"\"\n",
    "    A simple chatbot node that appends a response to the messages in the state.\n",
    "    \n",
    "    Args:\n",
    "        state (ChatbotState): The current state of the chatbot.\n",
    "        \n",
    "    Returns:\n",
    "        ChatbotState: The updated state with the chatbot's response appended.\n",
    "    \"\"\"\n",
    "    \n",
    "    return {\"messages\": llm_with_tools.invoke(state['messages'])}\n",
    "\n",
    "def tools_router(state: ChatbotState):\n",
    "    last_message = state['messages'][-1]\n",
    "    if (hasattr(last_message, 'tool_calls') and len(last_message.tool_calls) > 0):\n",
    "        return \"tool_node\"\n",
    "    else:\n",
    "        return END\n",
    "    \n",
    "tool_node = ToolNode(tools = tools)\n",
    "\n",
    "flow = StateGraph(ChatbotState)\n",
    "flow.add_node(\"chat_bot\", chat_bot_node)\n",
    "flow.add_node(\"tool_node\", tool_node)\n",
    "flow.set_entry_point(\"chat_bot\")\n",
    "flow.add_conditional_edges(\"chat_bot\", tools_router)\n",
    "flow.add_edge(\"tool_node\", \"chat_bot\")\n",
    "\n",
    "app = flow.compile(checkpointer=memory,interrupt_before=[\"tool_node\"])"
   ]
  },
  {
   "cell_type": "code",
   "execution_count": null,
   "id": "b5986f53",
   "metadata": {},
   "outputs": [
    {
     "name": "stdout",
     "output_type": "stream",
     "text": [
      "================================\u001b[1m Human Message \u001b[0m=================================\n",
      "\n",
      "What is the weather in Bangalore?\n",
      "==================================\u001b[1m Ai Message \u001b[0m==================================\n",
      "Tool Calls:\n",
      "  tavily_search_results_json (call_tJQ6YWXlmcUNHCb5wXRMRlEn)\n",
      " Call ID: call_tJQ6YWXlmcUNHCb5wXRMRlEn\n",
      "  Args:\n",
      "    query: Bangalore weather\n"
     ]
    }
   ],
   "source": [
    "config = {\"configurable\": {\n",
    "    \"thread_id\": 1\n",
    "}}\n",
    "\n",
    "\n",
    "events = app.stream(\n",
    "    {\n",
    "        \"messages\": [HumanMessage(content=\"What is the weather in Bangalore?\")]\n",
    "    },\n",
    "    config=config, \n",
    "    stream_mode=\"values\"\n",
    ")\n",
    "\n",
    "for event in events:\n",
    "    event[\"messages\"][-1].pretty_print()  # Print the last message content\n",
    "\n"
   ]
  },
  {
   "cell_type": "code",
   "execution_count": 6,
   "id": "0fefd199",
   "metadata": {},
   "outputs": [
    {
     "name": "stdout",
     "output_type": "stream",
     "text": [
      "==================================\u001b[1m Ai Message \u001b[0m==================================\n",
      "Tool Calls:\n",
      "  tavily_search_results_json (call_tJQ6YWXlmcUNHCb5wXRMRlEn)\n",
      " Call ID: call_tJQ6YWXlmcUNHCb5wXRMRlEn\n",
      "  Args:\n",
      "    query: Bangalore weather\n",
      "=================================\u001b[1m Tool Message \u001b[0m=================================\n",
      "Name: tavily_search_results_json\n",
      "\n",
      "[{\"title\": \"Bengaluru Weather Forecast 4 Jun 2025 - Times of India\", \"url\": \"https://timesofindia.indiatimes.com/weather/bengaluru-weather-forecast-today/560001\", \"content\": \"Today's Weather in Bengaluru: In Bengaluru today, the weather is expected to be Partly Cloudy with a maximum temperature of 28°C and a minimum of 22°C.\", \"score\": 0.95791626}, {\"title\": \"Weather in Bangalore in April 2025 (State of Karnātaka)\", \"url\": \"https://world-weather.info/forecast/india/bangalor/april-2025/\", \"content\": \"*   [7 +90°+73°](https://world-weather.info/forecast/india/bangalor/07-april/)\\n*   [8 +90°+73°](https://world-weather.info/forecast/india/bangalor/08-april/)\\n*   [9 +88°+73°](https://world-weather.info/forecast/india/bangalor/09-april/)\\n*   [10 +90°+73°](https://world-weather.info/forecast/india/bangalor/10-april/)\\n*   [11 +86°+73°](https://world-weather.info/forecast/india/bangalor/11-april/)\\n*   [12 +86°+73°](https://world-weather.info/forecast/india/bangalor/12-april/) [...] *   [World](https://world-weather.info/forecast/)\\n*   [India](https://world-weather.info/forecast/india/)\\n*   [State of Karnātaka](https://world-weather.info/forecast/india/state_of_karnataka/)\\n*   [Weather in Bangalore](https://world-weather.info/forecast/india/bangalor/)\\n\\nWeather in Bangalore in April 2025\\n==================================\\n\\nBangalore Weather Forecast for April 2025 is based on long term prognosis and previous years' statistical data. [...] [Chennai](https://world-weather.info/forecast/india/chennai_1/)**+82°**\\n\\n[Dindigul](https://world-weather.info/forecast/india/dindigul/)**+81°**\\n\\n[Thanjavur](https://world-weather.info/forecast/india/thanjavur/)**+81°**\\n\\n[Mangalore](https://world-weather.info/forecast/india/mangaluru/)**+79°**\\n\\n[Nellore](https://world-weather.info/forecast/india/nellore/)**+81°**\\n\\n[Tiruchchirāppalli](https://world-weather.info/forecast/india/tiruchchirappalli/)**+84°**\", \"score\": 0.93525803}, {\"title\": \"Bangalore Weather Today (Wednesday, Jun 04, 2025) - India Today\", \"url\": \"https://www.indiatoday.in/weather/bangalore-weather-forecast-today\", \"content\": \"The minimum temperature in Bangalore today is likely to hover around 21 degrees Celsius, while the maximum temperature might reach 29 degrees Celsius. The mercury level is expected to hover around 29 degrees Celsius throughout the day, with the wind speed around 7.4. The wind will move around 257 degrees with a gust speed of 9.62. The sunrise time is 05:53 AM, while it will set at 06:44 PM on Wednesday. As per the seven-day weather prediction, the temperature in Bangalore is likely to reach 29 [...] degrees Celsius on Wednesday, 31 degrees Celsius on Thursday, 32 degrees Celsius on Friday, 32 degrees Celsius on Saturday, 32 degrees Celsius on Sunday, 33 degrees Celsius on Monday and 33 degrees Celsius on Tuesday.\", \"score\": 0.918838}, {\"title\": \"April 2025 Weather History in Bengaluru Karnataka, India\", \"url\": \"https://weatherspark.com/h/m/108998/2025/4/Historical-Weather-in-April-2025-in-Bengaluru-Karnataka-India\", \"content\": \"d=\\\"M750,1172l137,0l0,983l-137,0ZM887,1172l137,0l0,983l-137,0ZM1024,1172l137,0l0,983l-137,0ZM1161,1172l137,0l0,1106l-137,0ZM1298,926l137,0l0,1352l-137,0ZM1435,1172l137,0l0,983l-137,0ZM1572,1172l137,0l0,1229l-137,0ZM1709,1049l137,0l0,1106l-137,0ZM1846,1049l137,0l0,738l-137,0ZM1983,558l137,0l0,1597l-137,0ZM2120,926l137,0l0,1229l-137,0ZM2258,1418l137,0l0,737l-137,0ZM2395,1049l137,0l0,1106l-137,0ZM2532,681l137,0l0,1474l-137,0ZM2669,926l137,0l0,1106l-137,0ZM2806,804l137,0l0,1351l-137,0Z\\\" fill=\\\"#000\\\" [...] ,2362l137,0l0,39l-137,0ZM6232,101l137,0l0,1141l-137,0ZM1572,431l137,0l0,1249l-137,0ZM2258,2326l137,0l0,75l-137,0ZM2258,101l137,0l0,1120l-137,0ZM1024,810l137,0l0,1155l-137,0ZM887,901l137,0l0,1137l-137,0ZM3765,1628l137,0l0,773l-137,0ZM3765,101l137,0l0,254l-137,0ZM3902,1553l137,0l0,848l-137,0ZM3902,101l137,0l0,169l-137,0ZM2120,101l137,0l0,1218l-137,0Z\\\" [...] ,246l3,0l3,123l3,-123l3,0l3,0l3,245l2,-737l3,615l3,-246l3,0l3,246l3,368l5,0l3,-123l3,123l3,0l3,0l3,0l3,0l2,0l3,0l3,0l6,0l3,-246l3,0l2,246l3,-491\\\"\", \"score\": 0.9126935}, {\"title\": \"Bangalore weather in June 2025 - Weather25.com\", \"url\": \"https://www.weather25.com/asia/india/karnataka/bangalore?page=month&month=June\", \"content\": \"/21°](https://www.weather25.com/asia/india/karnataka/bangalore?page=day#date=2025-06-04 \\\"Weather in 4 june 2025\\\") | [5 Partly cloudy 31° /20°](https://www.weather25.com/asia/india/karnataka/bangalore?page=day#date=2025-06-05 \\\"Weather in 5 june 2025\\\") | [6 Partly cloudy 32° /21°](https://www.weather25.com/asia/india/karnataka/bangalore?page=day#date=2025-06-06 \\\"Weather in 6 june 2025\\\") | [7 Partly cloudy 33° /22°](https://www.weather25.com/asia/india/karnataka/bangalore?page=day#date=2025-06-07\", \"score\": 0.90102744}]\n",
      "==================================\u001b[1m Ai Message \u001b[0m==================================\n",
      "\n",
      "Today's weather in Bangalore is expected to be partly cloudy with a maximum temperature of 28°C and a minimum of 22°C.\n"
     ]
    }
   ],
   "source": [
    "\n",
    "events = app.stream(None,config=config, stream_mode=\"values\")\n",
    "\n",
    "for event in events:\n",
    "    event[\"messages\"][-1].pretty_print()  # Print the last message content"
   ]
  }
 ],
 "metadata": {
  "kernelspec": {
   "display_name": "venv",
   "language": "python",
   "name": "python3"
  },
  "language_info": {
   "codemirror_mode": {
    "name": "ipython",
    "version": 3
   },
   "file_extension": ".py",
   "mimetype": "text/x-python",
   "name": "python",
   "nbconvert_exporter": "python",
   "pygments_lexer": "ipython3",
   "version": "3.12.7"
  }
 },
 "nbformat": 4,
 "nbformat_minor": 5
}
