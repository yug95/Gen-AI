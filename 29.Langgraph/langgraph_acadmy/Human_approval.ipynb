{
 "cells": [
  {
   "cell_type": "code",
   "execution_count": 36,
   "id": "afaf7f51",
   "metadata": {},
   "outputs": [],
   "source": [
    "from langchain_openai import ChatOpenAI"
   ]
  },
  {
   "cell_type": "code",
   "execution_count": 37,
   "id": "37ac91ce",
   "metadata": {},
   "outputs": [],
   "source": [
    "#define all the tools we want to use\n",
    "\n",
    "def multiply(a: int, b: int) -> int:\n",
    "    \"\"\"Multiply a and b.\n",
    "    \n",
    "    Args:\n",
    "        a: first int\n",
    "        b: second int\n",
    "    \"\"\"\n",
    "    return a * b\n",
    "\n",
    "\n",
    "def add(a: int, b: int) -> int:\n",
    "    \"\"\"Adds a and b.\n",
    "    \n",
    "    Args:\n",
    "        a: first int\n",
    "        b: second int\n",
    "    \"\"\"\n",
    "    return a + b\n",
    "\n",
    "def divide(a: int, b: int) -> float:\n",
    "    \"\"\"divide a and b.\n",
    "    \n",
    "    Args:\n",
    "        a: first int\n",
    "        b: second int\n",
    "    \"\"\"\n",
    "    return a / b\n",
    "\n",
    "tools = [multiply, add, divide]\n",
    "\n",
    "llm = ChatOpenAI(model=\"gpt-4o\")\n",
    "llm_with_tools = llm.bind_tools(tools)"
   ]
  },
  {
   "cell_type": "code",
   "execution_count": 38,
   "id": "b2bae83f",
   "metadata": {},
   "outputs": [],
   "source": [
    "from langgraph.graph import MessagesState, StateGraph, END\n",
    "from langchain_core.messages import HumanMessage, AIMessage, SystemMessage\n",
    "from langgraph.prebuilt import ToolNode, tools_condition\n",
    "from IPython.display import display, Image\n",
    "\n",
    "\n",
    "\n",
    "def assistant(state: MessagesState):\n",
    "\n",
    "    sys_msg = SystemMessage(content = \"You are a helpful assistant tasked with performing arithmetic operations on the set of inputs.\")\n",
    "\n",
    "    return {\n",
    "        \"messages\": [llm_with_tools.invoke([sys_msg] + state[\"messages\"])]\n",
    "    }"
   ]
  },
  {
   "cell_type": "code",
   "execution_count": 39,
   "id": "41b22657",
   "metadata": {},
   "outputs": [
    {
     "data": {
      "image/png": "[encoded data removed]",
      "text/plain": [
       "<IPython.core.display.Image object>"
      ]
     },
     "metadata": {},
     "output_type": "display_data"
    }
   ],
   "source": [
    "from langgraph.checkpoint.memory import MemorySaver\n",
    "\n",
    "memory = MemorySaver()\n",
    "\n",
    "config = {\n",
    "    \"configurable\": {\n",
    "        \"thread_id\":1\n",
    "    }\n",
    "}\n",
    "\n",
    "graph = StateGraph(MessagesState)\n",
    "graph.add_node(\"assistant\", assistant)\n",
    "graph.add_node(\"tools\", ToolNode(tools))\n",
    "\n",
    "graph.set_entry_point(\"assistant\")\n",
    "graph.add_conditional_edges(\n",
    "    \"assistant\",\n",
    "    tools_condition\n",
    ")\n",
    "\n",
    "graph.add_edge(\"tools\",\"assistant\")\n",
    "\n",
    "basic_graph = graph.compile(checkpointer=memory, interrupt_before=[\"assistant\"])\n",
    "\n",
    "display(Image(basic_graph.get_graph(xray=True).draw_mermaid_png()))"
   ]
  },
  {
   "cell_type": "code",
   "execution_count": 40,
   "id": "4da0e73f",
   "metadata": {},
   "outputs": [],
   "source": [
    "# initial_input = {\"messages\": [HumanMessage(content=\"Multiply 2 and 3\")]}\n",
    "\n",
    "# for event in basic_graph.stream(initial_input, config=config, stream_mode=\"values\"):\n",
    "#     print(event['messages'][-1].pretty_print())"
   ]
  },
  {
   "cell_type": "code",
   "execution_count": 41,
   "id": "20d1b8ff",
   "metadata": {},
   "outputs": [],
   "source": [
    "# state = basic_graph.get_state(config)\n",
    "# state.next"
   ]
  },
  {
   "cell_type": "code",
   "execution_count": 42,
   "id": "f8bd9e74",
   "metadata": {},
   "outputs": [],
   "source": [
    "#starting again from where it left\n",
    "# for event in basic_graph.stream(None, config=config, stream_mode=\"values\"):\n",
    "#     print(event['messages'][-1].pretty_print())"
   ]
  },
  {
   "cell_type": "code",
   "execution_count": 43,
   "id": "8e219abb",
   "metadata": {},
   "outputs": [],
   "source": [
    "#combine all together...\n",
    "\n",
    "# initial_input = {\"messages\": [HumanMessage(content=\"Multiply 2 and 3\")]}\n",
    "\n",
    "# for event in basic_graph.stream(initial_input, config=config, stream_mode=\"values\"):\n",
    "#     print(event['messages'][-1].pretty_print())\n",
    "\n",
    "# user_approval = input(\"Do you want to continue? (yes/no): \").strip().lower()\n",
    "\n",
    "# if user_approval == \"yes\":\n",
    "#     for event in basic_graph.stream(None, config=config, stream_mode=\"values\"):\n",
    "#         print(event['messages'][-1].pretty_print())\n",
    "# else:\n",
    "#     print(\"Process terminated by user.\")"
   ]
  },
  {
   "cell_type": "code",
   "execution_count": null,
   "id": "c053ac8e",
   "metadata": {},
   "outputs": [
    {
     "name": "stdout",
     "output_type": "stream",
     "text": [
      "================================\u001b[1m Human Message \u001b[0m=================================\n",
      "\n",
      "Multiply 2 and 3\n",
      "None\n",
      "================================\u001b[1m Human Message \u001b[0m=================================\n",
      "\n",
      "Add 2 and 5\n",
      "None\n",
      "==================================\u001b[1m Ai Message \u001b[0m==================================\n",
      "Tool Calls:\n",
      "  multiply (call_uF1ICwidJt6X6C0lFgjqoqwV)\n",
      " Call ID: call_uF1ICwidJt6X6C0lFgjqoqwV\n",
      "  Args:\n",
      "    a: 2\n",
      "    b: 3\n",
      "  add (call_yHujYSAQNhKJPUq0QQys6lK2)\n",
      " Call ID: call_yHujYSAQNhKJPUq0QQys6lK2\n",
      "  Args:\n",
      "    a: 2\n",
      "    b: 5\n",
      "None\n",
      "=================================\u001b[1m Tool Message \u001b[0m=================================\n",
      "Name: add\n",
      "\n",
      "7\n",
      "None\n"
     ]
    }
   ],
   "source": [
    "#combine all together upadting the state on interruption\n",
    "\n",
    "initial_input = {\"messages\": [HumanMessage(content=\"Multiply 2 and 3\")]}\n",
    "\n",
    "for event in basic_graph.stream(initial_input, config=config, stream_mode=\"values\"):\n",
    "    print(event['messages'][-1].pretty_print())\n",
    "\n",
    "user_approval = input(\"Do you want to continue? (yes/no): \").strip().lower()\n",
    "if user_approval == \"yes\":\n",
    "    basic_graph.update_state(config, {\"messages\":HumanMessage(content=\"Add 2 and 5\")})\n",
    "    for event in basic_graph.stream(None, config=config, stream_mode=\"values\"):\n",
    "        print(event['messages'][-1].pretty_print())\n",
    "else:\n",
    "    print(\"Process terminated by user.\")"
   ]
  },
  {
   "cell_type": "code",
   "execution_count": null,
   "id": "aef7dea8",
   "metadata": {},
   "outputs": [],
   "source": []
  },
  {
   "cell_type": "code",
   "execution_count": null,
   "id": "cd52024e",
   "metadata": {},
   "outputs": [],
   "source": []
  }
 ],
 "metadata": {
  "kernelspec": {
   "display_name": "venv",
   "language": "python",
   "name": "python3"
  },
  "language_info": {
   "codemirror_mode": {
    "name": "ipython",
    "version": 3
   },
   "file_extension": ".py",
   "mimetype": "text/x-python",
   "name": "python",
   "nbconvert_exporter": "python",
   "pygments_lexer": "ipython3",
   "version": "3.12.7"
  }
 },
 "nbformat": 4,
 "nbformat_minor": 5
}
