{
 "cells": [
  {
   "cell_type": "code",
   "execution_count": 1,
   "id": "d6a1c327",
   "metadata": {},
   "outputs": [],
   "source": [
    "from langchain_openai import ChatOpenAI"
   ]
  },
  {
   "cell_type": "code",
   "execution_count": 8,
   "metadata": {},
   "outputs": [],
   "source": [
    "#define all the tools we want to use\n",
    "\n",
    "def multiply(a: int, b: int) -> int:\n",
    "    \"\"\"Multiply a and b.\n",
    "    \n",
    "    Args:\n",
    "        a: first int\n",
    "        b: second int\n",
    "    \"\"\"\n",
    "    return a * b\n",
    "\n",
    "\n",
    "def add(a: int, b: int) -> int:\n",
    "    \"\"\"Adds a and b.\n",
    "    \n",
    "    Args:\n",
    "        a: first int\n",
    "        b: second int\n",
    "    \"\"\"\n",
    "    return a + b\n",
    "\n",
    "def divide(a: int, b: int) -> float:\n",
    "    \"\"\"divide a and b.\n",
    "    \n",
    "    Args:\n",
    "        a: first int\n",
    "        b: second int\n",
    "    \"\"\"\n",
    "    return a / b\n",
    "\n",
    "tools = [multiply, add, divide]\n",
    "\n",
    "llm = ChatOpenAI(model=\"gpt-4o\")\n",
    "llm_with_tools = llm.bind_tools(tools)"
   ]
  },
  {
   "cell_type": "code",
   "execution_count": 13,
   "id": "41c0e781",
   "metadata": {},
   "outputs": [],
   "source": [
    "from langgraph.graph import MessagesState, StateGraph, END\n",
    "from langchain_core.messages import HumanMessage, AIMessage, SystemMessage\n",
    "from langgraph.prebuilt import ToolNode, tools_condition\n",
    "from IPython.display import display, Image\n",
    "\n",
    "\n",
    "\n",
    "def assistant(state: MessagesState):\n",
    "\n",
    "    sys_msg = SystemMessage(content = \"You are a helpful assistant tasked with performing arithmetic operations on the set of inputs.\")\n",
    "\n",
    "    return {\n",
    "        \"messages\": [llm_with_tools.invoke([sys_msg] + state[\"messages\"])]\n",
    "    }"
   ]
  },
  {
   "cell_type": "code",
   "execution_count": 14,
   "metadata": {},
   "outputs": [
    {
     "data": {
      "image/png": "[encoded data removed]",
      "text/plain": [
       "<IPython.core.display.Image object>"
      ]
     },
     "metadata": {},
     "output_type": "display_data"
    }
   ],
   "source": [
    "graph = StateGraph(MessagesState)\n",
    "graph.add_node(\"assistant\", assistant)\n",
    "graph.add_node(\"tools\", ToolNode(tools))\n",
    "\n",
    "graph.set_entry_point(\"assistant\")\n",
    "graph.add_conditional_edges(\n",
    "    \"assistant\",\n",
    "    tools_condition\n",
    ")\n",
    "\n",
    "graph.add_edge(\"tools\",\"assistant\")\n",
    "\n",
    "basic_graph = graph.compile()\n",
    "\n",
    "display(Image(basic_graph.get_graph(xray=True).draw_mermaid_png()))"
   ]
  },
  {
   "cell_type": "code",
   "execution_count": 15,
   "id": "2444e2c5",
   "metadata": {},
   "outputs": [],
   "source": [
    "messages = HumanMessage(content=\"Add 3 and 4. Multiply the ouput by 2. Divide the output by 5.\")\n",
    "messages = basic_graph.invoke({\"messages\":messages})"
   ]
  },
  {
   "cell_type": "code",
   "execution_count": 16,
   "id": "61c91fca",
   "metadata": {},
   "outputs": [
    {
     "data": {
      "text/plain": [
       "{'messages': [HumanMessage(content='Add 3 and 4. Multiply the ouput by 2. Divide the output by 5.', additional_kwargs={}, response_metadata={}, id='c208d2ed-a18e-4cf9-8e5a-b10d0a025d6b'),\n",
       "  AIMessage(content='', additional_kwargs={'tool_calls': [{'id': 'call_3Wun5PV5mpMaDSR6YbsDi8dd', 'function': {'arguments': '{\"a\":3,\"b\":4}', 'name': 'add'}, 'type': 'function'}], 'refusal': None}, response_metadata={'token_usage': {'completion_tokens': 17, 'prompt_tokens': 148, 'total_tokens': 165, 'completion_tokens_details': {'accepted_prediction_tokens': 0, 'audio_tokens': 0, 'reasoning_tokens': 0, 'rejected_prediction_tokens': 0}, 'prompt_tokens_details': {'audio_tokens': 0, 'cached_tokens': 0}}, 'model_name': 'gpt-4o-2024-08-06', 'system_fingerprint': 'fp_07871e2ad8', 'id': 'chatcmpl-BjzGrocPrSWPCxz0wvFq27Iyi7eTN', 'service_tier': 'default', 'finish_reason': 'tool_calls', 'logprobs': None}, id='run--6cab8872-4d85-4bab-b2e6-e68a7b42fbfb-0', tool_calls=[{'name': 'add', 'args': {'a': 3, 'b': 4}, 'id': 'call_3Wun5PV5mpMaDSR6YbsDi8dd', 'type': 'tool_call'}], usage_metadata={'input_tokens': 148, 'output_tokens': 17, 'total_tokens': 165, 'input_token_details': {'audio': 0, 'cache_read': 0}, 'output_token_details': {'audio': 0, 'reasoning': 0}}),\n",
       "  ToolMessage(content='7', name='add', id='547c2d7a-a873-4b69-8eb8-9d9b9f6ecf83', tool_call_id='call_3Wun5PV5mpMaDSR6YbsDi8dd'),\n",
       "  AIMessage(content='', additional_kwargs={'tool_calls': [{'id': 'call_WZFa1G2dzFHeVvaF8srmpjxe', 'function': {'arguments': '{\"a\":7,\"b\":2}', 'name': 'multiply'}, 'type': 'function'}], 'refusal': None}, response_metadata={'token_usage': {'completion_tokens': 17, 'prompt_tokens': 173, 'total_tokens': 190, 'completion_tokens_details': {'accepted_prediction_tokens': 0, 'audio_tokens': 0, 'reasoning_tokens': 0, 'rejected_prediction_tokens': 0}, 'prompt_tokens_details': {'audio_tokens': 0, 'cached_tokens': 0}}, 'model_name': 'gpt-4o-2024-08-06', 'system_fingerprint': 'fp_07871e2ad8', 'id': 'chatcmpl-BjzGt3LR1WnvJRf4rMAytDGzbysLD', 'service_tier': 'default', 'finish_reason': 'tool_calls', 'logprobs': None}, id='run--747ce6c3-f483-4dbb-830d-45887d837e5c-0', tool_calls=[{'name': 'multiply', 'args': {'a': 7, 'b': 2}, 'id': 'call_WZFa1G2dzFHeVvaF8srmpjxe', 'type': 'tool_call'}], usage_metadata={'input_tokens': 173, 'output_tokens': 17, 'total_tokens': 190, 'input_token_details': {'audio': 0, 'cache_read': 0}, 'output_token_details': {'audio': 0, 'reasoning': 0}}),\n",
       "  ToolMessage(content='14', name='multiply', id='a557348d-7e0f-4e59-aaed-bd26252216f0', tool_call_id='call_WZFa1G2dzFHeVvaF8srmpjxe'),\n",
       "  AIMessage(content='', additional_kwargs={'tool_calls': [{'id': 'call_OCx0w1J7nWyxUfT9khwUOVB6', 'function': {'arguments': '{\"a\":14,\"b\":5}', 'name': 'divide'}, 'type': 'function'}], 'refusal': None}, response_metadata={'token_usage': {'completion_tokens': 17, 'prompt_tokens': 198, 'total_tokens': 215, 'completion_tokens_details': {'accepted_prediction_tokens': 0, 'audio_tokens': 0, 'reasoning_tokens': 0, 'rejected_prediction_tokens': 0}, 'prompt_tokens_details': {'audio_tokens': 0, 'cached_tokens': 0}}, 'model_name': 'gpt-4o-2024-08-06', 'system_fingerprint': 'fp_07871e2ad8', 'id': 'chatcmpl-BjzGvEcljY6yjZmgwz4otlbCsUnYv', 'service_tier': 'default', 'finish_reason': 'tool_calls', 'logprobs': None}, id='run--67ddc8e2-b678-4027-894a-4d547cc60c4f-0', tool_calls=[{'name': 'divide', 'args': {'a': 14, 'b': 5}, 'id': 'call_OCx0w1J7nWyxUfT9khwUOVB6', 'type': 'tool_call'}], usage_metadata={'input_tokens': 198, 'output_tokens': 17, 'total_tokens': 215, 'input_token_details': {'audio': 0, 'cache_read': 0}, 'output_token_details': {'audio': 0, 'reasoning': 0}}),\n",
       "  ToolMessage(content='2.8', name='divide', id='61f75cbb-4eaa-41d1-b916-2f87a6961976', tool_call_id='call_OCx0w1J7nWyxUfT9khwUOVB6'),\n",
       "  AIMessage(content='The result of adding 3 and 4, multiplying the result by 2, and then dividing by 5 is 2.8.', additional_kwargs={'refusal': None}, response_metadata={'token_usage': {'completion_tokens': 30, 'prompt_tokens': 225, 'total_tokens': 255, 'completion_tokens_details': {'accepted_prediction_tokens': 0, 'audio_tokens': 0, 'reasoning_tokens': 0, 'rejected_prediction_tokens': 0}, 'prompt_tokens_details': {'audio_tokens': 0, 'cached_tokens': 0}}, 'model_name': 'gpt-4o-2024-08-06', 'system_fingerprint': 'fp_07871e2ad8', 'id': 'chatcmpl-BjzGxggvdN158rz3g1bggi35fjA3d', 'service_tier': 'default', 'finish_reason': 'stop', 'logprobs': None}, id='run--7fb497cc-8d41-4e8f-97e5-d466bcb44b0f-0', usage_metadata={'input_tokens': 225, 'output_tokens': 30, 'total_tokens': 255, 'input_token_details': {'audio': 0, 'cache_read': 0}, 'output_token_details': {'audio': 0, 'reasoning': 0}})]}"
      ]
     },
     "execution_count": 16,
     "metadata": {},
     "output_type": "execute_result"
    }
   ],
   "source": [
    "messages"
   ]
  },
  {
   "cell_type": "code",
   "execution_count": null,
   "id": "e8dd0a36",
   "metadata": {},
   "outputs": [],
   "source": []
  }
 ],
 "metadata": {
  "kernelspec": {
   "display_name": "venv",
   "language": "python",
   "name": "python3"
  },
  "language_info": {
   "codemirror_mode": {
    "name": "ipython",
    "version": 3
   },
   "file_extension": ".py",
   "mimetype": "text/x-python",
   "name": "python",
   "nbconvert_exporter": "python",
   "pygments_lexer": "ipython3",
   "version": "3.12.7"
  }
 },
 "nbformat": 4,
 "nbformat_minor": 5
}
