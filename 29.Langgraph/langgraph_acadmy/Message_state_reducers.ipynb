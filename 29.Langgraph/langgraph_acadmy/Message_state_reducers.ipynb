{
 "cells": [
  {
   "cell_type": "code",
   "execution_count": 23,
   "id": "f825f149",
   "metadata": {},
   "outputs": [],
   "source": [
    "from langgraph.graph import StateGraph, MessagesState, add_messages,END\n",
    "from typing import Annotated, TypedDict\n",
    "from langchain_core.messages import AnyMessage, HumanMessage, AIMessage"
   ]
  },
  {
   "cell_type": "code",
   "execution_count": 5,
   "id": "c3bc6ee5",
   "metadata": {},
   "outputs": [],
   "source": [
    "class CustomState(TypedDict):\n",
    "    messages: Annotated[list[AnyMessage], add_messages]\n",
    "    added_key1: str\n",
    "    added_key2: str"
   ]
  },
  {
   "cell_type": "code",
   "execution_count": 12,
   "id": "07ce3d70",
   "metadata": {},
   "outputs": [],
   "source": [
    "class ExtendedMessagesState(MessagesState):\n",
    "    # message with messagestate will be prebuilt present in the state\n",
    "    added_key1: str\n",
    "    added_key2: str\n",
    "\n"
   ]
  },
  {
   "cell_type": "code",
   "execution_count": 20,
   "id": "9577fb56",
   "metadata": {},
   "outputs": [
    {
     "data": {
      "text/plain": [
       "[HumanMessage(content='Hello, world!', additional_kwargs={}, response_metadata={}, name='lance', id='1'),\n",
       " AIMessage(content='Hello, human!', additional_kwargs={}, response_metadata={}, name='robot', id='2'),\n",
       " HumanMessage(content='How are you?', additional_kwargs={}, response_metadata={}, name='lance', id='3')]"
      ]
     },
     "execution_count": 20,
     "metadata": {},
     "output_type": "execute_result"
    }
   ],
   "source": [
    "# add message example\n",
    "\n",
    "initial_messages = [HumanMessage(\"Hello, world!\", name='lance',id=1), AIMessage(\"Hello, human!\",name='robot',id=2)]\n",
    "\n",
    "new_message = HumanMessage(\"How are you?\",name='lance',id=3)\n",
    "\n",
    "add_messages(initial_messages, new_message)"
   ]
  },
  {
   "cell_type": "code",
   "execution_count": 21,
   "id": "08fc55cf",
   "metadata": {},
   "outputs": [
    {
     "data": {
      "text/plain": [
       "[AIMessage(content='Hello, human!', additional_kwargs={}, response_metadata={}, name='robot', id='2')]"
      ]
     },
     "execution_count": 21,
     "metadata": {},
     "output_type": "execute_result"
    }
   ],
   "source": [
    "from langchain_core.messages import RemoveMessage\n",
    "\n",
    "delete_message = RemoveMessage(id=1)\n",
    "add_messages(initial_messages, delete_message)"
   ]
  },
  {
   "cell_type": "code",
   "execution_count": 27,
   "metadata": {},
   "outputs": [
    {
     "data": {
      "image/png": "[encoded data removed]",
      "text/plain": [
       "<IPython.core.display.Image object>"
      ]
     },
     "metadata": {},
     "output_type": "display_data"
    },
    {
     "data": {
      "text/plain": [
       "{'answer': 'bye lance'}"
      ]
     },
     "execution_count": 27,
     "metadata": {},
     "output_type": "execute_result"
    }
   ],
   "source": [
    "# Multiple States Schema\n",
    "from IPython.display import display, Image\n",
    "\n",
    "class question_state(TypedDict):\n",
    "    question: str\n",
    "\n",
    "class answer_state(TypedDict):\n",
    "    answer: str\n",
    "\n",
    "class overall_state(TypedDict):\n",
    "    question: str\n",
    "    answer: str\n",
    "    notes: str\n",
    "\n",
    "\n",
    "def thinking_node(state: question_state) -> overall_state:\n",
    "    # Simulate thinking\n",
    "    return {\"answer\":\"bye\",\"notes\":\"some notes\"}\n",
    "\n",
    "def answer_node(state: overall_state) -> answer_state:\n",
    "    return {\"answer\": \"bye lance\"}\n",
    "\n",
    "graph = StateGraph(overall_state,input=question_state, output=answer_state)\n",
    "graph.add_node(\"thinking_node\",thinking_node)\n",
    "graph.add_node(\"answer_node\", answer_node)\n",
    "graph.set_entry_point(\"thinking_node\")\n",
    "graph.add_edge(\"thinking_node\", \"answer_node\")\n",
    "graph.add_edge(\"answer_node\", END)\n",
    "\n",
    "app = graph.compile()\n",
    "display(Image(app.get_graph(xray=True).draw_mermaid_png()))\n",
    "\n",
    "app.invoke({'question': 'How are you?'})"
   ]
  }
 ],
 "metadata": {
  "kernelspec": {
   "display_name": "venv",
   "language": "python",
   "name": "python3"
  },
  "language_info": {
   "codemirror_mode": {
    "name": "ipython",
    "version": 3
   },
   "file_extension": ".py",
   "mimetype": "text/x-python",
   "name": "python",
   "nbconvert_exporter": "python",
   "pygments_lexer": "ipython3",
   "version": "3.12.7"
  }
 },
 "nbformat": 4,
 "nbformat_minor": 5
}
