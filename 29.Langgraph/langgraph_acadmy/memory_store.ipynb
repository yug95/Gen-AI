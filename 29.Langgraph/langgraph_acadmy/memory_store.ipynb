{
 "cells": [
  {
   "cell_type": "code",
   "execution_count": 1,
   "id": "758ea794",
   "metadata": {},
   "outputs": [],
   "source": [
    "import uuid\n",
    "from langgraph.store.memory import InMemoryStore\n",
    "\n",
    "in_memory_store = InMemoryStore()"
   ]
  },
  {
   "cell_type": "code",
   "execution_count": 2,
   "metadata": {},
   "outputs": [],
   "source": [
    "# create name space\n",
    "user_id = \"1\"\n",
    "namespace_for_memory = (user_id, \"memories\")\n",
    "\n",
    "\n",
    "key = str(uuid.uuid4())\n",
    "\n",
    "value = {\"food_preference\":\"I love pizza!\"}\n",
    "\n",
    "in_memory_store.put(namespace_for_memory,key,value)"
   ]
  },
  {
   "cell_type": "code",
   "execution_count": 3,
   "id": "f16c0795",
   "metadata": {},
   "outputs": [
    {
     "data": {
      "text/plain": [
       "[Item(namespace=['1', 'memories'], key='9a0b5b98-3e42-4998-af0f-490e6836f4f6', value={'food_preference': 'I love pizza!'}, created_at='2025-06-20T08:13:55.465157+00:00', updated_at='2025-06-20T08:13:55.465162+00:00', score=None)]"
      ]
     },
     "execution_count": 3,
     "metadata": {},
     "output_type": "execute_result"
    }
   ],
   "source": [
    "in_memory_store.search(namespace_for_memory)"
   ]
  },
  {
   "cell_type": "code",
   "execution_count": 4,
   "id": "de354029",
   "metadata": {},
   "outputs": [
    {
     "data": {
      "text/plain": [
       "Item(namespace=['1', 'memories'], key='9a0b5b98-3e42-4998-af0f-490e6836f4f6', value={'food_preference': 'I love pizza!'}, created_at='2025-06-20T08:13:55.465157+00:00', updated_at='2025-06-20T08:13:55.465162+00:00')"
      ]
     },
     "execution_count": 4,
     "metadata": {},
     "output_type": "execute_result"
    }
   ],
   "source": [
    "in_memory_store.get(namespace_for_memory, key)"
   ]
  }
 ],
 "metadata": {
  "kernelspec": {
   "display_name": "venv",
   "language": "python",
   "name": "python3"
  },
  "language_info": {
   "codemirror_mode": {
    "name": "ipython",
    "version": 3
   },
   "file_extension": ".py",
   "mimetype": "text/x-python",
   "name": "python",
   "nbconvert_exporter": "python",
   "pygments_lexer": "ipython3",
   "version": "3.12.7"
  }
 },
 "nbformat": 4,
 "nbformat_minor": 5
}
